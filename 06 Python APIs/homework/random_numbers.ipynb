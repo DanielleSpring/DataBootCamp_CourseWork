{
 "cells": [
  {
   "cell_type": "code",
   "execution_count": 1,
   "id": "52942819",
   "metadata": {},
   "outputs": [],
   "source": [
    "# Import the random module.\n",
    "import random"
   ]
  },
  {
   "cell_type": "code",
   "execution_count": 2,
   "id": "6c32bd84",
   "metadata": {},
   "outputs": [
    {
     "data": {
      "text/plain": [
       "-23"
      ]
     },
     "execution_count": 2,
     "metadata": {},
     "output_type": "execute_result"
    }
   ],
   "source": [
    "random.randint(-90,90)"
   ]
  },
  {
   "cell_type": "code",
   "execution_count": 4,
   "id": "c2334d75",
   "metadata": {},
   "outputs": [
    {
     "data": {
      "text/plain": [
       "0.8470048318523469"
      ]
     },
     "execution_count": 4,
     "metadata": {},
     "output_type": "execute_result"
    }
   ],
   "source": [
    "random.random()"
   ]
  },
  {
   "cell_type": "code",
   "execution_count": 6,
   "id": "e98a765c",
   "metadata": {},
   "outputs": [
    {
     "data": {
      "text/plain": [
       "52.20946285870945"
      ]
     },
     "execution_count": 6,
     "metadata": {},
     "output_type": "execute_result"
    }
   ],
   "source": [
    "random_number=random.randint(-90,90)+random.random()\n",
    "random_number"
   ]
  },
  {
   "cell_type": "code",
   "execution_count": 19,
   "id": "a9e30c80",
   "metadata": {},
   "outputs": [
    {
     "data": {
      "text/plain": [
       "[-9.317799720510475,\n",
       " 80.91128718460348,\n",
       " -3.4851915606611215,\n",
       " 89.94400134418629,\n",
       " 33.539343795587115,\n",
       " 56.388979728208376,\n",
       " 21.485972477521226,\n",
       " 37.64845266221356,\n",
       " 22.711251208989896,\n",
       " -64.99667753056445]"
      ]
     },
     "execution_count": 19,
     "metadata": {},
     "output_type": "execute_result"
    }
   ],
   "source": [
    "#these two functions, we can write an algorithm that will generate latitudes between –90 and 89\n",
    "x = 1\n",
    "latitudes = []\n",
    "while x < 11:\n",
    "    random_lat = random.randint(-90, 89) + random.random()\n",
    "    latitudes.append(random_lat)\n",
    "    x += 1\n",
    "    \n",
    "latitudes"
   ]
  },
  {
   "cell_type": "code",
   "execution_count": 20,
   "id": "25b1a9b9",
   "metadata": {},
   "outputs": [
    {
     "data": {
      "text/plain": [
       "-74"
      ]
     },
     "execution_count": 20,
     "metadata": {},
     "output_type": "execute_result"
    }
   ],
   "source": [
    "random.randrange(-90,90, step=1)"
   ]
  },
  {
   "cell_type": "code",
   "execution_count": 21,
   "id": "c29f6548",
   "metadata": {},
   "outputs": [
    {
     "data": {
      "text/plain": [
       "6"
      ]
     },
     "execution_count": 21,
     "metadata": {},
     "output_type": "execute_result"
    }
   ],
   "source": [
    "random.randrange(-90,90, step=3)"
   ]
  },
  {
   "cell_type": "code",
   "execution_count": 22,
   "id": "73fa0b28",
   "metadata": {},
   "outputs": [
    {
     "data": {
      "text/plain": [
       "54.998606962653525"
      ]
     },
     "execution_count": 22,
     "metadata": {},
     "output_type": "execute_result"
    }
   ],
   "source": [
    "random.uniform(-90, 90)"
   ]
  },
  {
   "cell_type": "code",
   "execution_count": 23,
   "id": "b28eb606",
   "metadata": {},
   "outputs": [],
   "source": [
    "# Import the NumPy module.\n",
    "import numpy as np"
   ]
  },
  {
   "cell_type": "code",
   "execution_count": 24,
   "id": "f649b71d",
   "metadata": {},
   "outputs": [
    {
     "data": {
      "text/plain": [
       "-84.15071502260108"
      ]
     },
     "execution_count": 24,
     "metadata": {},
     "output_type": "execute_result"
    }
   ],
   "source": [
    "# another option is np.random.uniform(low=-90, high=90)\n",
    "np.random.uniform(-90.000, 90.000)"
   ]
  },
  {
   "cell_type": "code",
   "execution_count": 28,
   "id": "1c8cdc6f",
   "metadata": {},
   "outputs": [
    {
     "data": {
      "text/plain": [
       "array([ 31.01983627, -27.57760132, -57.80030648,   7.97028866,\n",
       "        79.7177879 ,  36.03678089, -43.19273832,  43.93084818,\n",
       "        29.72015948,  23.75087728, -86.49010656, -32.15809715,\n",
       "        75.25297301, -57.11612348,  45.57671079,  28.58709869,\n",
       "        76.56128316, -85.22799291, -68.32843312,  72.60346338,\n",
       "        69.30878531,  -2.96920935, -53.0041116 ,  43.79319504,\n",
       "       -15.90200477, -21.06033008,  18.45453959, -30.14187413,\n",
       "       -37.46639905,  -5.07952612,  41.6496921 , -66.1611896 ,\n",
       "       -57.88952677,  83.82289956,  73.85125285,  79.10536668,\n",
       "       -55.240926  ,  89.58849504, -58.26543626, -76.47586435,\n",
       "        33.75148765,  51.69463008,  19.61746973,  77.67363261,\n",
       "       -41.30198842,  84.36278614,  83.5507606 , -78.914     ,\n",
       "       -36.03394907,  45.43871772])"
      ]
     },
     "execution_count": 28,
     "metadata": {},
     "output_type": "execute_result"
    }
   ],
   "source": [
    "#To generate more than one floating-point decimal number between –90 and 90, \n",
    "#we can add the size parameter when we use the NumPy module and set that equal to any whole number.\n",
    "\n",
    "\n",
    "np.random.uniform(-90.000, 90.000, size=50)"
   ]
  },
  {
   "cell_type": "code",
   "execution_count": 29,
   "id": "5745870f",
   "metadata": {},
   "outputs": [],
   "source": [
    "#To test how long a piece of code or function takes to run, we can import the \"timeit\"\n",
    "#module and use the %timeit magic command when we run our code or call the function.\n",
    "\n",
    "# Import timeit.\n",
    "import timeit"
   ]
  },
  {
   "cell_type": "code",
   "execution_count": 30,
   "id": "eaf3da61",
   "metadata": {},
   "outputs": [
    {
     "name": "stdout",
     "output_type": "stream",
     "text": [
      "10.5 µs ± 80.7 ns per loop (mean ± std. dev. of 7 runs, 100000 loops each)\n"
     ]
    }
   ],
   "source": [
    "%timeit np.random.uniform(-90.000, 90.000, size=1500)"
   ]
  },
  {
   "cell_type": "code",
   "execution_count": 31,
   "id": "a8465cbc",
   "metadata": {},
   "outputs": [
    {
     "name": "stdout",
     "output_type": "stream",
     "text": [
      "1.21 ms ± 16.4 µs per loop (mean ± std. dev. of 7 runs, 1000 loops each)\n"
     ]
    }
   ],
   "source": [
    "# to test while loop\n",
    "\n",
    "def latitudes(size):\n",
    "    latitudes = []\n",
    "    x = 0\n",
    "    while x < (size):\n",
    "        random_lat = random.randint(-90, 90) + random.random()\n",
    "        latitudes.append(random_lat)\n",
    "        x += 1\n",
    "    return latitudes\n",
    "# Call the function with 1500.\n",
    "%timeit latitudes(1500)"
   ]
  },
  {
   "cell_type": "code",
   "execution_count": 1,
   "id": "253a4f8e",
   "metadata": {},
   "outputs": [],
   "source": [
    "#Skill Drill  ****come back to this*****\n",
    "#Refactor the code for the while loop with the %timeit magic command and write a for loop\n",
    "#that will generate the 1,500 latitudes.\n",
    "\n",
    "#%timeit np.random.uniform(-90.000, 90.000, size=1500)\n",
    "\n",
    "# def latitudes(size):\n",
    "#     latitudes = []\n",
    "#     x = 0\n",
    "#     while x < 11:\n",
    "#         %timeit np.random.uniform(-90.000, 90.000, size=1500) \n",
    "#         #random_lat = random.randint(-90, 90) + random.random()\n",
    "#         latitudes.append(random_lat)\n",
    "#         x += 1\n",
    "#     return latitudes\n",
    "# # Call the function with 1500.\n",
    "# %timeit latitudes(1500)"
   ]
  },
  {
   "cell_type": "code",
   "execution_count": 2,
   "id": "7aa04adb",
   "metadata": {},
   "outputs": [],
   "source": [
    "# Import linear regression from the SciPy stats module.\n",
    "from scipy.stats import linregress"
   ]
  },
  {
   "cell_type": "code",
   "execution_count": 3,
   "id": "57edeee6",
   "metadata": {},
   "outputs": [],
   "source": [
    "# Create an equal number of latitudes and temperatures.\n",
    "lats = [42.5, 43.9, 8.1, 36.8, 79.9, 69.1, 25.7, 15.3, 12.7, 64.5]\n",
    "temps = [80.5, 75.3, 90.9, 90.0, 40.4, 62.3, 85.4, 79.6, 72.5, 72.0]"
   ]
  },
  {
   "cell_type": "code",
   "execution_count": 4,
   "id": "8852ae8c",
   "metadata": {},
   "outputs": [
    {
     "name": "stdout",
     "output_type": "stream",
     "text": [
      "y = -0.45x + 92.94\n",
      "The p-value is: 0.011\n"
     ]
    }
   ],
   "source": [
    "# Perform linear regression.\n",
    "(slope, intercept, r_value, p_value, std_err) = linregress(lats, temps)\n",
    "# Get the equation of the line.\n",
    "line_eq = \"y = \" + str(round(slope,2)) + \"x + \" + str(round(intercept,2))\n",
    "print(line_eq)\n",
    "print(f\"The p-value is: {p_value:.3f}\")"
   ]
  }
 ],
 "metadata": {
  "kernelspec": {
   "display_name": "PythonData",
   "language": "python",
   "name": "pythondata"
  },
  "language_info": {
   "codemirror_mode": {
    "name": "ipython",
    "version": 3
   },
   "file_extension": ".py",
   "mimetype": "text/x-python",
   "name": "python",
   "nbconvert_exporter": "python",
   "pygments_lexer": "ipython3",
   "version": "3.7.10"
  }
 },
 "nbformat": 4,
 "nbformat_minor": 5
}
